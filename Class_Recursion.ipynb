{
  "nbformat": 4,
  "nbformat_minor": 0,
  "metadata": {
    "colab": {
      "provenance": [],
      "authorship_tag": "ABX9TyOni9tZyyDTLnkMpiroRmhN",
      "include_colab_link": true
    },
    "kernelspec": {
      "name": "python3",
      "display_name": "Python 3"
    },
    "language_info": {
      "name": "python"
    }
  },
  "cells": [
    {
      "cell_type": "markdown",
      "metadata": {
        "id": "view-in-github",
        "colab_type": "text"
      },
      "source": [
        "<a href=\"https://colab.research.google.com/github/danifelman/DanielaFelman/blob/main/Class_Recursion.ipynb\" target=\"_parent\"><img src=\"https://colab.research.google.com/assets/colab-badge.svg\" alt=\"Open In Colab\"/></a>"
      ]
    },
    {
      "cell_type": "code",
      "execution_count": null,
      "metadata": {
        "id": "GtVb2DrBVHmU"
      },
      "outputs": [],
      "source": [
        "def recursive_factorial(n):\n",
        "  if n <= 1: # or n == 1\n",
        "    return 1\n",
        "  else:\n",
        "    return n * recursive_factorial(n-1)\n",
        "\n",
        "recursive_factorial(5)"
      ]
    },
    {
      "cell_type": "code",
      "source": [
        "def fact(n):\n",
        "  prod = 1\n",
        "  while n >= 1:\n",
        "    prod = prod * n\n",
        "    n = n - 1\n",
        "    return prod\n",
        "fact(5)"
      ],
      "metadata": {
        "id": "4JODI2NzVLP3"
      },
      "execution_count": null,
      "outputs": []
    },
    {
      "cell_type": "code",
      "source": [
        "def fibiR(n):\n",
        "  if n == 0 or n == 1:\n",
        "    return 1\n",
        "  else:\n",
        "    return fibiR(n-1) + fibiR(n-2)\n",
        "\n",
        "  for i in range(8):\n",
        "    print(fibiR(i), end =\" \")\n",
        "\n",
        "fibiR(8)"
      ],
      "metadata": {
        "id": "vvUMJY_SVOfd"
      },
      "execution_count": null,
      "outputs": []
    },
    {
      "cell_type": "code",
      "source": [
        "def fibR(n):\n",
        "  if n == 0 or n== 1:\n",
        "    return 1\n",
        "  else:\n",
        "    return fibR(n-1)+fibR(n-2)\n",
        "\n",
        "for i in range (8):\n",
        "  print(fibR(i), end=\" \")"
      ],
      "metadata": {
        "colab": {
          "base_uri": "https://localhost:8080/"
        },
        "id": "3hUMmig-VQw1",
        "outputId": "15af11bc-0d0e-4410-963b-ff586f7dc96f"
      },
      "execution_count": 1,
      "outputs": [
        {
          "output_type": "stream",
          "name": "stdout",
          "text": [
            "1 1 2 3 5 8 13 21 "
          ]
        }
      ]
    },
    {
      "cell_type": "code",
      "source": [
        "#f(\"Hello\") - \"mirror\"\n",
        "n=\"hello\"\n",
        "def recursive_hello(n):\n",
        "  if len(n) == 0:\n",
        "    return \" \"\n",
        "  else:\n",
        "    return n[-1] + recursive_hello(n[:-1]) + [n-1]\n",
        "    print(recursive_hello(n))"
      ],
      "metadata": {
        "id": "rgrRPB3JVWwX"
      },
      "execution_count": null,
      "outputs": []
    },
    {
      "cell_type": "code",
      "source": [
        "def mirrorString(s):\n",
        "  if len(s)==1:\n",
        "    return s\n",
        "  else:\n",
        "    return s[-1] +mirrorString(s[:-1])\n",
        "\n",
        "mirrorString(\"hello\")"
      ],
      "metadata": {
        "id": "TtjvQeGQVZd_"
      },
      "execution_count": null,
      "outputs": []
    }
  ]
}