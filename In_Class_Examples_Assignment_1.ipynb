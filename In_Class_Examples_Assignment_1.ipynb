{
  "nbformat": 4,
  "nbformat_minor": 0,
  "metadata": {
    "colab": {
      "provenance": [],
      "authorship_tag": "ABX9TyPwHDqjmLbW4DUDKQzj0rOa",
      "include_colab_link": true
    },
    "kernelspec": {
      "name": "python3",
      "display_name": "Python 3"
    },
    "language_info": {
      "name": "python"
    }
  },
  "cells": [
    {
      "cell_type": "markdown",
      "metadata": {
        "id": "view-in-github",
        "colab_type": "text"
      },
      "source": [
        "<a href=\"https://colab.research.google.com/github/danifelman/DanielaFelman/blob/main/In_Class_Examples_Assignment_1.ipynb\" target=\"_parent\"><img src=\"https://colab.research.google.com/assets/colab-badge.svg\" alt=\"Open In Colab\"/></a>"
      ]
    },
    {
      "cell_type": "markdown",
      "source": [
        "Deposit With Interest Rates Example"
      ],
      "metadata": {
        "id": "N8upul7tRcNd"
      }
    },
    {
      "cell_type": "code",
      "source": [
        "#If deposit is more than 10,000 $ then ir=3.5%\n",
        "#If deposit is between 1000 and 10000 then ir=3.25\n",
        "#If deposit is less than 1000 then ir=3.0%\n",
        "\n",
        "\n",
        "#Step 1: input deposit amount and customer type\n",
        "customer_type = input('Enter customer type (n:new, e: existing): ')\n",
        "Deposit = float(input ('Enter deposit amount ($):'))\n",
        "\n",
        "#Step 2: Decide Interest Rate\n",
        "if customer_type == 'n':\n",
        "  Interest = 0.03\n",
        "else:\n",
        "  if Deposit <= 1000:\n",
        "    Interest= float(0.03)\n",
        "  elif Deposit <= 10000:\n",
        "    Interest= float(0.0325)\n",
        "  elif Deposit > 10000:\n",
        "    Interest = float(0.035)\n",
        "\n",
        "#Step 3: Display amount after interest is applied\n",
        "Amount = (1 + ir/100) * Deposit\n",
        "print(f'Total amount after applying interest rate: {round(Amount, 2)}$')"
      ],
      "metadata": {
        "id": "CZHiWtSVR2-8"
      },
      "execution_count": null,
      "outputs": []
    },
    {
      "cell_type": "markdown",
      "source": [
        "Parking Garage Example\n"
      ],
      "metadata": {
        "id": "5qQuXUTSQNPi"
      }
    },
    {
      "cell_type": "code",
      "source": [
        "def getParkingHours():\n",
        "  hours_parked=float(input('Enter number of hours parked: '))\n",
        "\n",
        "def calcParkingFee(hours):\n",
        "  fee_per_hour = 2.50\n",
        "  min_fee = 6.00\n",
        "  max_fee = 20.00\n",
        "\n",
        "  fee = hours * fee_per_hour\n",
        "\n",
        "  if fee < min_fee:\n",
        "    fee = min_fee\n",
        "  elif fee > max_fee:\n",
        "    fee = max_fee\n",
        "\n",
        "  return fee"
      ],
      "metadata": {
        "id": "x2jQyzNLSFKB"
      },
      "execution_count": null,
      "outputs": []
    },
    {
      "cell_type": "code",
      "source": [
        "def getParkingHours():\n",
        "  return float(input('How many hours to park?'))\n",
        "\n",
        "def calcParkingFee(hours):\n",
        "  if hours * 2.5 < 6:\n",
        "    return 6\n",
        "  elif hours * 2.5 > 20:\n",
        "    return 20\n",
        "  else:\n",
        "    return hours*2.5\n",
        "\n",
        "  hours = getParkingHours()\n",
        "  fee = calcParkingFee(hours)\n",
        "  print(f'Charge: ${fee}')"
      ],
      "metadata": {
        "id": "_CZ92dc4UK8A"
      },
      "execution_count": null,
      "outputs": []
    },
    {
      "cell_type": "markdown",
      "source": [
        "List Creator Example"
      ],
      "metadata": {
        "id": "vWnZi_IpRWWJ"
      }
    },
    {
      "cell_type": "code",
      "source": [
        "L = []\n",
        "number = int(input('Enter a value: '))\n",
        "\n",
        "while number != 0:\n",
        "  L.append(number)\n",
        "  number = int(input('Enter a value: '))\n",
        "print(L)\n",
        "\n",
        "L.sort()\n",
        "L"
      ],
      "metadata": {
        "id": "-MzZBFw1UrEi"
      },
      "execution_count": null,
      "outputs": []
    },
    {
      "cell_type": "code",
      "source": [
        "L1=[1,2,3,4]\n",
        "L2=[1,2,5,6]\n",
        "\n",
        "for item in L1: #for loop that iterates every number in L1\n",
        "  if item in L2: #on every iteration checks for common items within two lists\n",
        "   L1.remove(item) #if it is true then remove if its in both\n",
        "\n",
        "L1 #in this loop, 2 is still in the list because when it goes back through the loop 2 takes the first position:\n",
        "\n",
        "#to avoid that from happening, need to.....\n",
        "\n",
        "L1=[1,2,3,4]\n",
        "L2=[1,2,5,6]\n",
        "\n",
        "for item in L1[:]:\n",
        "  if item in L2:\n",
        "    L1.remove(item)\n",
        "L1\n"
      ],
      "metadata": {
        "id": "X_ziST3uUr7l"
      },
      "execution_count": null,
      "outputs": []
    },
    {
      "cell_type": "code",
      "source": [
        "L=[1,2,5,6,7]\n",
        "L[1]=3\n",
        "L"
      ],
      "metadata": {
        "id": "7F4k-nkxUwJY"
      },
      "execution_count": null,
      "outputs": []
    },
    {
      "cell_type": "code",
      "source": [
        "t=(1,'two',3.0) #touple : immutable list\n",
        "t\n"
      ],
      "metadata": {
        "id": "cYeixbMkUx_5"
      },
      "execution_count": null,
      "outputs": []
    },
    {
      "cell_type": "code",
      "source": [
        "t + (3,4)"
      ],
      "metadata": {
        "id": "cz3HHrIGU0UY"
      },
      "execution_count": null,
      "outputs": []
    },
    {
      "cell_type": "markdown",
      "source": [
        "Tuition Example"
      ],
      "metadata": {
        "id": "lahCrCfFUPo6"
      }
    },
    {
      "cell_type": "code",
      "source": [
        "def calcTuition(credits):\n",
        "\n",
        "  if credits >= 12:\n",
        "    return 20000\n",
        "  elif credits < 12:\n",
        "    return 1200 +1700 * credits\n",
        "  else:\n",
        "      print('Invalid number of credits')\n",
        "\n",
        "\n",
        "credits = int(input('Number of credits: '))\n",
        "\n",
        "print(calcTuition(credits))"
      ],
      "metadata": {
        "id": "jPKepfJYURTO"
      },
      "execution_count": null,
      "outputs": []
    },
    {
      "cell_type": "markdown",
      "source": [
        "Weights Example"
      ],
      "metadata": {
        "id": "5nmVobp2UVwE"
      }
    },
    {
      "cell_type": "code",
      "source": [
        "def getValues(n):\n",
        "  weight = []\n",
        "  if n <3:\n",
        "    print('Not enough weights')\n",
        "    return None\n",
        "  else:\n",
        "    for i in range(n):\n",
        "      weights.append(float(input('Enter a weight: ')))\n",
        "    return weights [2:]\n",
        "\n",
        "def calcAverage(alist):\n",
        "  print(sum(alist)/ len(alist))\n",
        "\n",
        "n_weights = int(input('Enter number of weights to be added to the list: '))\n",
        "calcAverage(getValues(n_weights))\n",
        "\n",
        "\n"
      ],
      "metadata": {
        "id": "75Y-o9rcUWq8"
      },
      "execution_count": null,
      "outputs": []
    },
    {
      "cell_type": "markdown",
      "source": [
        "Country Statistics Lookup-Multiple Measures Example"
      ],
      "metadata": {
        "id": "2BJqB_2_UXiz"
      }
    },
    {
      "cell_type": "code",
      "source": [
        "allData = { # dictionary of values for countries\n",
        "    'US': {'pop':325.7, 'gdp': 19.39, 'ccy': 'USD', 'fx':  1.0},\n",
        "    'CA': {'pop': 36.5, 'gdp':  1.65, 'ccy': 'CAD', 'fx':  1.35},\n",
        "    'MX': {'pop':129.2, 'gdp':  1.15, 'ccy': 'MXN', 'fx': 19.68}\n",
        "    }\n",
        "\n",
        "while True:\n",
        "  country_code = input('Please enter a country code, or type exit to stop): ')\n",
        "\n",
        "  if country_code =='exit':\n",
        "    break\n",
        "\n",
        "  if country_code not in allData.keys():\n",
        "    continue\n",
        "\n",
        "  measureName= input('Please enter a measure name')\n",
        "\n",
        "  if measureName not in allData[country_code].keys():\n",
        "    continue\n",
        "\n",
        "  print(allData[country_code][measureName])\n"
      ],
      "metadata": {
        "id": "jlGaV1ADUgUG"
      },
      "execution_count": null,
      "outputs": []
    },
    {
      "cell_type": "markdown",
      "source": [
        "Mortgage Example"
      ],
      "metadata": {
        "id": "TyT3XlBrP0WV"
      }
    },
    {
      "cell_type": "code",
      "source": [
        "class Mortgage:\n",
        "  def __init__(self ,amount,maturity,interest):\n",
        "    self.amount = amount\n",
        "    self.maturity = maturity\n",
        "    self.__interest = interest\n",
        "\n",
        "  def __str__(self):\n",
        "    return \"I am an instance of mortgage\"\n",
        "\n",
        "  def get_interest(self):\n",
        "    return self.__interest\n",
        "\n",
        "  def set_interest(self, newInterest):\n",
        "    if newInterest >=0:\n",
        "      self.__interest = newInterest\n",
        "    else:\n",
        "      print ('Interest values must be non-negative')\n",
        "\n",
        "\n",
        "  def payment(self):\n",
        "      r = self.__interest/100\n",
        "      n = self.maturity*12\n",
        "      return self.amount * (r* (1+r) ** n )/ ((1+r) ** n-1)\n"
      ],
      "metadata": {
        "id": "4keCxF5yP2Mf"
      },
      "execution_count": null,
      "outputs": []
    },
    {
      "cell_type": "code",
      "source": [
        "m = Mortgage(100000,30,6)\n",
        "m.payment()"
      ],
      "metadata": {
        "id": "kRopSbeWVOFg"
      },
      "execution_count": null,
      "outputs": []
    },
    {
      "cell_type": "markdown",
      "source": [
        "Leap Year Example"
      ],
      "metadata": {
        "id": "4BPnVSxyRBSH"
      }
    },
    {
      "cell_type": "code",
      "source": [
        "userInput = input(\"year: \")\n",
        "x= int(userInput)\n",
        "\n",
        "if (x%4 == 0 and x%100 != 0) or x%400==0:\n",
        "  print (\"leap year\")\n",
        "else :\n",
        "  print(\"no leap year\")"
      ],
      "metadata": {
        "id": "YYoBVAKVRDWQ"
      },
      "execution_count": null,
      "outputs": []
    },
    {
      "cell_type": "markdown",
      "source": [
        "Rock Paper Scissors Example"
      ],
      "metadata": {
        "id": "CzvrjWlrP22w"
      }
    },
    {
      "cell_type": "code",
      "source": [
        "import random\n",
        "computer_choice=random.choice([\"rock\" ,\"paper\",\"scissors\"])\n",
        "user_choice= input(\"Enter your choice(rock, paper ,scissors):\")\n",
        "\n",
        "print(f\"You choose: {user_choice}\")\n",
        "print(f\"Computer choose: {computer_choice}\")\n",
        "\n",
        "if user_choice == computer_choice:\n",
        "  print(\"It's a tie!\")\n",
        "\n",
        "elif (\n",
        " ( user_choice == \"rock\" and computer_choice == \"scissors\") or\n",
        "      (user_choice == \"paper\" and computer_choice == \"rock\") or\n",
        "      (user_choice == \"scissors\") and computer_choice == \"paper\"):\n",
        "  print(\"You Win!\")\n",
        "else:\n",
        "  print(\"Computer wins!\")\n",
        "\n"
      ],
      "metadata": {
        "id": "1oQKh3W0QGTz"
      },
      "execution_count": null,
      "outputs": []
    },
    {
      "cell_type": "markdown",
      "source": [
        "Calculator Example"
      ],
      "metadata": {
        "id": "tkvoiUlzN-wf"
      }
    },
    {
      "cell_type": "code",
      "source": [
        "while True:\n",
        "  operator = input('Enter mathematical operator')\n",
        "\n",
        "  if operator == 'break':\n",
        "    break\n",
        "\n",
        "  num1 = float(input(\"Enter first number: \"))\n",
        "  num2 = float(input(\"Enter second number: \"))\n",
        "\n",
        "\n",
        "  if operator == \"+\":\n",
        "    print(f'{num1} + {num2} = {num1+num2}')\n",
        "  elif operator == \"-\":\n",
        "    print (f'{num1} - {num2} = {num1-num2}')\n",
        "  elif operator == \"*\":\n",
        "     print(f'{num1} * {num2} = {num1*num2}')\n",
        "  elif operator == \"**\":\n",
        "     print(f'{num1} ** {num2} = {num1**num2}')\n",
        "  elif operator == '/':\n",
        "     print(f'{num1} / {num2} = {num1/num2}')\n",
        "  elif operator == \"//\":\n",
        "     print(f'{num1} // {num2} = {num1//num2}')\n",
        "  elif operator == \"%\":\n",
        "     print(f'{num1} % {num2} = {num1%num2}')\n",
        "  else:\n",
        "    print('invalid operator:',operator)\n",
        "    continue"
      ],
      "metadata": {
        "id": "eMjjdt68OAxm",
        "colab": {
          "base_uri": "https://localhost:8080/",
          "height": 365
        },
        "outputId": "d3dd47b4-33a6-4369-9c9d-b3f366fc04a5"
      },
      "execution_count": 11,
      "outputs": [
        {
          "output_type": "error",
          "ename": "KeyboardInterrupt",
          "evalue": "Interrupted by user",
          "traceback": [
            "\u001b[0;31m---------------------------------------------------------------------------\u001b[0m",
            "\u001b[0;31mKeyboardInterrupt\u001b[0m                         Traceback (most recent call last)",
            "\u001b[0;32m<ipython-input-11-0d27a3e3ea44>\u001b[0m in \u001b[0;36m<cell line: 1>\u001b[0;34m()\u001b[0m\n\u001b[1;32m      1\u001b[0m \u001b[0;32mwhile\u001b[0m \u001b[0;32mTrue\u001b[0m\u001b[0;34m:\u001b[0m\u001b[0;34m\u001b[0m\u001b[0;34m\u001b[0m\u001b[0m\n\u001b[0;32m----> 2\u001b[0;31m   \u001b[0moperator\u001b[0m \u001b[0;34m=\u001b[0m \u001b[0minput\u001b[0m\u001b[0;34m(\u001b[0m\u001b[0;34m'Enter mathematical operator'\u001b[0m\u001b[0;34m)\u001b[0m\u001b[0;34m\u001b[0m\u001b[0;34m\u001b[0m\u001b[0m\n\u001b[0m\u001b[1;32m      3\u001b[0m \u001b[0;34m\u001b[0m\u001b[0m\n\u001b[1;32m      4\u001b[0m   \u001b[0;32mif\u001b[0m \u001b[0moperator\u001b[0m \u001b[0;34m==\u001b[0m \u001b[0;34m'break'\u001b[0m\u001b[0;34m:\u001b[0m\u001b[0;34m\u001b[0m\u001b[0;34m\u001b[0m\u001b[0m\n\u001b[1;32m      5\u001b[0m     \u001b[0;32mbreak\u001b[0m\u001b[0;34m\u001b[0m\u001b[0;34m\u001b[0m\u001b[0m\n",
            "\u001b[0;32m/usr/local/lib/python3.10/dist-packages/ipykernel/kernelbase.py\u001b[0m in \u001b[0;36mraw_input\u001b[0;34m(self, prompt)\u001b[0m\n\u001b[1;32m    849\u001b[0m                 \u001b[0;34m\"raw_input was called, but this frontend does not support input requests.\"\u001b[0m\u001b[0;34m\u001b[0m\u001b[0;34m\u001b[0m\u001b[0m\n\u001b[1;32m    850\u001b[0m             )\n\u001b[0;32m--> 851\u001b[0;31m         return self._input_request(str(prompt),\n\u001b[0m\u001b[1;32m    852\u001b[0m             \u001b[0mself\u001b[0m\u001b[0;34m.\u001b[0m\u001b[0m_parent_ident\u001b[0m\u001b[0;34m,\u001b[0m\u001b[0;34m\u001b[0m\u001b[0;34m\u001b[0m\u001b[0m\n\u001b[1;32m    853\u001b[0m             \u001b[0mself\u001b[0m\u001b[0;34m.\u001b[0m\u001b[0m_parent_header\u001b[0m\u001b[0;34m,\u001b[0m\u001b[0;34m\u001b[0m\u001b[0;34m\u001b[0m\u001b[0m\n",
            "\u001b[0;32m/usr/local/lib/python3.10/dist-packages/ipykernel/kernelbase.py\u001b[0m in \u001b[0;36m_input_request\u001b[0;34m(self, prompt, ident, parent, password)\u001b[0m\n\u001b[1;32m    893\u001b[0m             \u001b[0;32mexcept\u001b[0m \u001b[0mKeyboardInterrupt\u001b[0m\u001b[0;34m:\u001b[0m\u001b[0;34m\u001b[0m\u001b[0;34m\u001b[0m\u001b[0m\n\u001b[1;32m    894\u001b[0m                 \u001b[0;31m# re-raise KeyboardInterrupt, to truncate traceback\u001b[0m\u001b[0;34m\u001b[0m\u001b[0;34m\u001b[0m\u001b[0m\n\u001b[0;32m--> 895\u001b[0;31m                 \u001b[0;32mraise\u001b[0m \u001b[0mKeyboardInterrupt\u001b[0m\u001b[0;34m(\u001b[0m\u001b[0;34m\"Interrupted by user\"\u001b[0m\u001b[0;34m)\u001b[0m \u001b[0;32mfrom\u001b[0m \u001b[0;32mNone\u001b[0m\u001b[0;34m\u001b[0m\u001b[0;34m\u001b[0m\u001b[0m\n\u001b[0m\u001b[1;32m    896\u001b[0m             \u001b[0;32mexcept\u001b[0m \u001b[0mException\u001b[0m \u001b[0;32mas\u001b[0m \u001b[0me\u001b[0m\u001b[0;34m:\u001b[0m\u001b[0;34m\u001b[0m\u001b[0;34m\u001b[0m\u001b[0m\n\u001b[1;32m    897\u001b[0m                 \u001b[0mself\u001b[0m\u001b[0;34m.\u001b[0m\u001b[0mlog\u001b[0m\u001b[0;34m.\u001b[0m\u001b[0mwarning\u001b[0m\u001b[0;34m(\u001b[0m\u001b[0;34m\"Invalid Message:\"\u001b[0m\u001b[0;34m,\u001b[0m \u001b[0mexc_info\u001b[0m\u001b[0;34m=\u001b[0m\u001b[0;32mTrue\u001b[0m\u001b[0;34m)\u001b[0m\u001b[0;34m\u001b[0m\u001b[0;34m\u001b[0m\u001b[0m\n",
            "\u001b[0;31mKeyboardInterrupt\u001b[0m: Interrupted by user"
          ]
        }
      ]
    },
    {
      "cell_type": "markdown",
      "source": [
        "Populating a Dictionary with Two Variables Example"
      ],
      "metadata": {
        "id": "G0r3SVn_OkiR"
      }
    },
    {
      "cell_type": "code",
      "source": [
        "months={}\n",
        "\n",
        "numbers = [1,2,3,4,5,6,7,8,9,10,11,12]\n",
        "names=['January','Feburary','March','April','May','June','July','August','September','October','November','December']\n",
        "\n",
        "for i in range (len(numbers)):\n",
        "  months[numbers[i]]=names[i]\n",
        "\n",
        "print(months)\n"
      ],
      "metadata": {
        "id": "MG0MoKS2Op1x"
      },
      "execution_count": null,
      "outputs": []
    },
    {
      "cell_type": "code",
      "source": [],
      "metadata": {
        "id": "X9hbbVMYN-cr"
      },
      "execution_count": null,
      "outputs": []
    },
    {
      "cell_type": "markdown",
      "source": [
        "Date Program Example"
      ],
      "metadata": {
        "id": "jtZkIW8qOKzu"
      }
    },
    {
      "cell_type": "code",
      "source": [
        "date = input(('Enter Date: MM/DD/YYYY: '))\n",
        "month = date[0:2]\n",
        "day= date[3:5]\n",
        "year= date[6:10]\n",
        "\n",
        "print(f\" the month is {month}\")\n",
        "print(f\"the day is {day}\")\n",
        "print(f\" the year is {year}\")\n",
        "\n",
        "date = input(\"Enter the date: \")\n",
        "month= date[0:2]\n",
        "day= date[3:5]\n",
        "year= date[6:10]\n",
        "\n",
        "print(month,day,year)"
      ],
      "metadata": {
        "id": "hvEe-r89OUdG"
      },
      "execution_count": null,
      "outputs": []
    },
    {
      "cell_type": "markdown",
      "source": [
        "Movie Theatre Example"
      ],
      "metadata": {
        "id": "PDIz9aLTNpBQ"
      }
    },
    {
      "cell_type": "code",
      "execution_count": null,
      "metadata": {
        "id": "Sofhvj83MKQM"
      },
      "outputs": [],
      "source": [
        "\n",
        "print(f'Ad$ Profit')\n",
        "\n",
        "init__attendees = 20\n",
        "fixed_cost = 200\n",
        "\n",
        "for advertising in range (0.201,25):\n",
        "  ad = float(advertising)\n",
        "  attendees = float(2*round(advertising ** 0.5) + init_attendees)\n",
        "  profit = float((attendees *10) - advertising - fixed cost)\n",
        "  print(f'{ad} ${profit}')\n"
      ]
    }
  ]
}