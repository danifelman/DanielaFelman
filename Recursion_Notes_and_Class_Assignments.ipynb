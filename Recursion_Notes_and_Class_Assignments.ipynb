{
  "nbformat": 4,
  "nbformat_minor": 0,
  "metadata": {
    "colab": {
      "provenance": [],
      "authorship_tag": "ABX9TyOhEIt9zbqYfP9Dg03h7niy",
      "include_colab_link": true
    },
    "kernelspec": {
      "name": "python3",
      "display_name": "Python 3"
    },
    "language_info": {
      "name": "python"
    }
  },
  "cells": [
    {
      "cell_type": "markdown",
      "metadata": {
        "id": "view-in-github",
        "colab_type": "text"
      },
      "source": [
        "<a href=\"https://colab.research.google.com/github/danifelman/DanielaFelman/blob/main/Recursion_Notes_and_Class_Assignments.ipynb\" target=\"_parent\"><img src=\"https://colab.research.google.com/assets/colab-badge.svg\" alt=\"Open In Colab\"/></a>"
      ]
    },
    {
      "cell_type": "code",
      "execution_count": null,
      "metadata": {
        "colab": {
          "base_uri": "https://localhost:8080/"
        },
        "id": "WuxCXSUwpnsD",
        "outputId": "8c96a273-e6d6-4533-a38b-0895c7810a93"
      },
      "outputs": [
        {
          "output_type": "stream",
          "name": "stdout",
          "text": [
            "5\n",
            "4\n",
            "3\n",
            "2\n",
            "1\n",
            "0\n"
          ]
        }
      ],
      "source": [
        "def countdown (n):\n",
        "  for i in range (n,-1,-1):\n",
        "    print(i)\n",
        "\n",
        "countdown (5)"
      ]
    },
    {
      "cell_type": "code",
      "source": [
        "def countdown (n):\n",
        "  while n>=0:\n",
        "    print(n)\n",
        "    n=n-1\n",
        "countdown(5)"
      ],
      "metadata": {
        "colab": {
          "base_uri": "https://localhost:8080/"
        },
        "id": "M96-XpuUp2IL",
        "outputId": "12f983b7-80f8-44e0-fc2d-6d4ff1081d13"
      },
      "execution_count": null,
      "outputs": [
        {
          "output_type": "stream",
          "name": "stdout",
          "text": [
            "5\n",
            "4\n",
            "3\n",
            "2\n",
            "1\n",
            "0\n"
          ]
        }
      ]
    },
    {
      "cell_type": "markdown",
      "source": [
        "# **Recursion **\n",
        "\n",
        "Base Case: trivialized version of the problem\n",
        "\n",
        "Inductive case: split the problem into smaller simpler versions of itself\n",
        "\n",
        "One applies to the base case and one applies to the inductive case\n"
      ],
      "metadata": {
        "id": "zReBKjBIqtI4"
      }
    },
    {
      "cell_type": "code",
      "source": [
        "#Countdown using recursion approach ; no iterations\n",
        "\n",
        "def recursive_countdown(n):\n",
        "  if n == 0: # base case\n",
        "    print(0)\n",
        "  else:\n",
        "    print(n)\n",
        "    recursive_countdown(n-1) #call of function\n",
        "\n",
        "recursive_countdown(5)\n",
        "\n",
        "#want to use conditionals instead of iterations\n",
        "# have a function,  simple if else conditional, one case for base case, one case\n",
        "#for inductive case - does not matter which one comes first"
      ],
      "metadata": {
        "colab": {
          "base_uri": "https://localhost:8080/"
        },
        "id": "DBkBNz-FqCMR",
        "outputId": "b7dcc9c5-f674-4ed8-8084-ccd3a4d93975"
      },
      "execution_count": null,
      "outputs": [
        {
          "output_type": "stream",
          "name": "stdout",
          "text": [
            "5\n",
            "4\n",
            "3\n",
            "2\n",
            "1\n",
            "0\n"
          ]
        }
      ]
    },
    {
      "cell_type": "markdown",
      "source": [
        "# **Summation Example: non-recursive **"
      ],
      "metadata": {
        "id": "qjPppOvWw2pX"
      }
    },
    {
      "cell_type": "code",
      "source": [
        "def summation(n):\n",
        "  s = 0\n",
        "  while n>=0:\n",
        "    s = s + n\n",
        "    n = n - 1\n",
        "  return s #need to return sum\n",
        "\n",
        "summation(3)\n",
        "\n",
        "\n"
      ],
      "metadata": {
        "colab": {
          "base_uri": "https://localhost:8080/"
        },
        "id": "AZOqL21QvFMp",
        "outputId": "8d8b1dd7-fa8c-43e5-f150-2267fe11beed"
      },
      "execution_count": null,
      "outputs": [
        {
          "output_type": "execute_result",
          "data": {
            "text/plain": [
              "6"
            ]
          },
          "metadata": {},
          "execution_count": 18
        }
      ]
    },
    {
      "cell_type": "markdown",
      "source": [
        "# **Recursive Summation **"
      ],
      "metadata": {
        "id": "IMalGi2EzYOA"
      }
    },
    {
      "cell_type": "code",
      "source": [
        "def recursive_summation(n):\n",
        "  if n == 0:\n",
        "    return 0\n",
        "  else:\n",
        "    return n + recursive_summation(n-1)\n",
        "\n",
        "recursive_summation(3)\n"
      ],
      "metadata": {
        "colab": {
          "base_uri": "https://localhost:8080/"
        },
        "id": "ZhnZioAJxc0B",
        "outputId": "f7f1e5a9-c6ae-4f29-c54d-7ab60e243a1c"
      },
      "execution_count": null,
      "outputs": [
        {
          "output_type": "execute_result",
          "data": {
            "text/plain": [
              "6"
            ]
          },
          "metadata": {},
          "execution_count": 20
        }
      ]
    },
    {
      "cell_type": "markdown",
      "source": [
        "# **In class assignment: Use recursion for a factorial**\n"
      ],
      "metadata": {
        "id": "5kfiwVHjzupC"
      }
    },
    {
      "cell_type": "code",
      "source": [
        "def recursive_factorial(n):\n",
        "  if n <= 1: # or n == 1\n",
        "    return 1\n",
        "  else:\n",
        "    return n * recursive_factorial(n-1)\n",
        "\n",
        "recursive_factorial(5)"
      ],
      "metadata": {
        "colab": {
          "base_uri": "https://localhost:8080/"
        },
        "id": "V00KSg01z3Jo",
        "outputId": "8f699d86-df3e-4d36-a95c-380634653437"
      },
      "execution_count": null,
      "outputs": [
        {
          "output_type": "execute_result",
          "data": {
            "text/plain": [
              "120"
            ]
          },
          "metadata": {},
          "execution_count": 26
        }
      ]
    },
    {
      "cell_type": "code",
      "source": [
        "def fact(n):\n",
        "  prod = 1\n",
        "  while n >= 1:\n",
        "    prod = prod * n\n",
        "    n = n - 1\n",
        "    return prod\n",
        "fact(5)"
      ],
      "metadata": {
        "colab": {
          "base_uri": "https://localhost:8080/"
        },
        "id": "TMSoGtg222LO",
        "outputId": "d4165b84-b02f-4f42-82db-de7291113c30"
      },
      "execution_count": null,
      "outputs": [
        {
          "output_type": "execute_result",
          "data": {
            "text/plain": [
              "5"
            ]
          },
          "metadata": {},
          "execution_count": 34
        }
      ]
    },
    {
      "cell_type": "markdown",
      "source": [
        "# **More than one base cases (Fibonacci sequence) **"
      ],
      "metadata": {
        "id": "3Runl-JH3Maq"
      }
    },
    {
      "cell_type": "code",
      "source": [
        "#Inductive case : n = f(n-1)+f(n-2)\n",
        "#Base case: n == 0 and n == 1\n",
        "\n",
        "def fibiR(n):\n",
        "  if n == 0 or n == 1:\n",
        "    return 1\n",
        "  else:\n",
        "    return fibiR(n-1) + fibiR(n-2)\n",
        "\n",
        "  for i in range(8):\n",
        "    print(fibiR(i), end =\" \")\n",
        "\n",
        "fibiR(8)"
      ],
      "metadata": {
        "colab": {
          "base_uri": "https://localhost:8080/"
        },
        "id": "4BQZ0HBz3Qy6",
        "outputId": "c3c2f6a0-2c3e-4df0-fc2c-5f1048541fa5"
      },
      "execution_count": null,
      "outputs": [
        {
          "output_type": "execute_result",
          "data": {
            "text/plain": [
              "34"
            ]
          },
          "metadata": {},
          "execution_count": 43
        }
      ]
    },
    {
      "cell_type": "code",
      "source": [
        "def fibR(n):\n",
        "  if n == 0 or n== 1:\n",
        "    return 1\n",
        "  else:\n",
        "    return fibR(n-1)+fibR(n-2)\n",
        "\n",
        "for i in range (8):\n",
        "  print(fibR(i), end=\" \")\n"
      ],
      "metadata": {
        "colab": {
          "base_uri": "https://localhost:8080/"
        },
        "id": "gTqlAotO-nFV",
        "outputId": "668ab0d9-97d9-4d62-fa5b-5f2dd84b1fd7"
      },
      "execution_count": 2,
      "outputs": [
        {
          "output_type": "stream",
          "name": "stdout",
          "text": [
            "1 1 2 3 5 8 13 21 "
          ]
        }
      ]
    }
  ]
}