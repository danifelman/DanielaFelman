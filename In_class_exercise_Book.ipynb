{
  "nbformat": 4,
  "nbformat_minor": 0,
  "metadata": {
    "colab": {
      "provenance": [],
      "include_colab_link": true
    },
    "kernelspec": {
      "name": "python3",
      "display_name": "Python 3"
    },
    "language_info": {
      "name": "python"
    }
  },
  "cells": [
    {
      "cell_type": "markdown",
      "metadata": {
        "id": "view-in-github",
        "colab_type": "text"
      },
      "source": [
        "<a href=\"https://colab.research.google.com/github/danifelman/DanielaFelman/blob/main/In_class_exercise_Book.ipynb\" target=\"_parent\"><img src=\"https://colab.research.google.com/assets/colab-badge.svg\" alt=\"Open In Colab\"/></a>"
      ]
    },
    {
      "cell_type": "code",
      "execution_count": null,
      "metadata": {
        "id": "EB5SzGQTt5E2",
        "colab": {
          "base_uri": "https://localhost:8080/"
        },
        "outputId": "8e1afe6b-7a0d-4723-b5b2-244dd3f30371"
      },
      "outputs": [
        {
          "output_type": "stream",
          "name": "stdout",
          "text": [
            "Enter your choice(rock, paper ,scissors):paper\n",
            "You choose: paper\n",
            "Computer choose: rock\n",
            "You Win!\n"
          ]
        }
      ],
      "source": [
        "\n",
        "import random\n",
        "computer_choice=random.choice([\"rock\" ,\"paper\",\"scissors\"])\n",
        "user_choice= input(\"Enter your choice(rock, paper ,scissors):\")\n",
        "\n",
        "print(f\"You choose: {user_choice}\")\n",
        "print(f\"Computer choose: {computer_choice}\")\n",
        "\n",
        "if user_choice == computer_choice:\n",
        "  print(\"It's a tie!\")\n",
        "\n",
        "elif (\n",
        " ( user_choice == \"rock\" and computer_choice == \"scissors\") or\n",
        "      (user_choice == \"paper\" and computer_choice == \"rock\") or\n",
        "      (user_choice == \"scissors\") and computer_choice == \"paper\"):\n",
        "  print(\"You Win!\")\n",
        "else:\n",
        "  print(\"Computer wins!\")"
      ]
    },
    {
      "cell_type": "code",
      "source": [
        "if user_choice == pc_choice:\n",
        "  print (\"tie\")\n",
        "elif (user_choise ==\"rock\"and\n",
        "  pc_choice == \"scissors\")\n",
        "or\n",
        "  (user_choice == \"paper\" and\n",
        "  pc_choice == \"rock\")\n",
        "or\n",
        "  (user_choice == \"scissors\" and\n",
        "  pc_choice == \"paper\")\n",
        "else\n",
        "  print(\"Pc wins\")"
      ],
      "metadata": {
        "colab": {
          "base_uri": "https://localhost:8080/",
          "height": 143
        },
        "id": "MstGLgN-1jPi",
        "outputId": "14d47e23-2007-4481-fe35-5f7b39b59fcc"
      },
      "execution_count": null,
      "outputs": [
        {
          "output_type": "error",
          "ename": "SyntaxError",
          "evalue": "expected ':' (<ipython-input-4-11a6db8c6b19>, line 4)",
          "traceback": [
            "\u001b[0;36m  File \u001b[0;32m\"<ipython-input-4-11a6db8c6b19>\"\u001b[0;36m, line \u001b[0;32m4\u001b[0m\n\u001b[0;31m    pc_choice == \"scissors\")\u001b[0m\n\u001b[0m                            ^\u001b[0m\n\u001b[0;31mSyntaxError\u001b[0m\u001b[0;31m:\u001b[0m expected ':'\n"
          ]
        }
      ]
    },
    {
      "cell_type": "code",
      "source": [
        "userInput = input(\"year: \")\n",
        "x= int(userInput)\n",
        "\n",
        "if (x%4 == 0 and x%100 != 0) or x%400==0:\n",
        "  print (\"leap year\")\n",
        "else :\n",
        "  print(\"no leap year\")"
      ],
      "metadata": {
        "colab": {
          "base_uri": "https://localhost:8080/"
        },
        "id": "HixCdutc349q",
        "outputId": "af2b16a9-e116-43ae-8955-97b0bd9201b5"
      },
      "execution_count": null,
      "outputs": [
        {
          "output_type": "stream",
          "name": "stdout",
          "text": [
            "year1980\n",
            "leap year\n"
          ]
        }
      ]
    },
    {
      "cell_type": "code",
      "source": [
        "if (year%4 == 0 and year %100!=0) or year %400 == 0 :\n",
        "  print('leap')\n",
        "  else:\n",
        "    (\"not leap\")"
      ],
      "metadata": {
        "id": "G-F45K959ok2"
      },
      "execution_count": null,
      "outputs": []
    },
    {
      "cell_type": "markdown",
      "source": [
        "1) if year divisible by 4, go to 2\n",
        "else go to step 5\n",
        "2) if year divisible by 100, go to step 3\n",
        "else go to step 4\n",
        "3) if year divisible by 400, go to\n",
        "4, else 5\n"
      ],
      "metadata": {
        "id": "0b5H71qk5G7s"
      }
    },
    {
      "cell_type": "markdown",
      "source": [
        "input              processing         output\n",
        "1. user.         1. comparisons.      1. display\n",
        "2. competitor.   2. and, or, not"
      ],
      "metadata": {
        "id": "2G1May2Uu5l_"
      }
    },
    {
      "cell_type": "code",
      "source": [
        "from pickle import TRUE\n",
        "#design calculator\n",
        "#The calculator once starts, cannot stop unless the user chooses to (hint:infinite loop)\n",
        "#Implement all numerical operators discussed\n",
        "#The user has to provide the numbers and the desired operator from the keyboard; then, the calculator will display the result\n",
        "\n",
        "#numbers: int or float, operator: str\n",
        "#The calculator stops if the user enters the word break instead of an operator; it skips an iteration is the user gives an operator that is not numerical (eg. boolean one)\n",
        "\n",
        "while True:\n",
        "  output = 0\n",
        "  a = float(input('Enter first value:'))\n",
        "  b = float(input('Enter second value:'))\n",
        "  operator = str(input('Enter operator:'))\n",
        "  if operator == 'break':\n",
        "    print('All done')\n",
        "    break\n",
        "\n",
        "  if operator == ('+'):\n",
        "    output= a+b\n",
        "  elif operator == ('-'):\n",
        "    output = a-b\n",
        "  elif operator == ('*'):\n",
        "    output= a*b\n",
        "  elif operator == ('**'):\n",
        "    output = a**b\n",
        "  elif operator ==('/'):\n",
        "    output = a/b\n",
        "  elif operator == ('//'):\n",
        "    output = a//b\n",
        "  else:\n",
        "    print('Invalid operator')\n",
        "    continue\n",
        "\n",
        "  print(output)\n",
        "\n",
        "\n",
        "\n",
        "\n",
        "\n",
        "\n",
        "\n",
        "\n"
      ],
      "metadata": {
        "id": "18XX7DdilTCy",
        "outputId": "901686a8-2e71-404c-d831-4f2f836fb16d",
        "colab": {
          "base_uri": "https://localhost:8080/"
        }
      },
      "execution_count": 11,
      "outputs": [
        {
          "output_type": "stream",
          "name": "stdout",
          "text": [
            "Enter first value:1\n",
            "Enter second value:2\n",
            "Enter operator:+\n",
            "3.0\n",
            "Enter first value:2\n",
            "Enter second value:3\n",
            "Enter operator:breal\n",
            "Invalid operator\n",
            "Enter first value:3\n",
            "Enter second value:4\n",
            "Enter operator:break\n",
            "All done\n"
          ]
        }
      ]
    },
    {
      "cell_type": "code",
      "source": [
        "while True:\n",
        "  operator = input('Enter mathematical operator')\n",
        "\n",
        "  if operator == 'break':\n",
        "    break\n",
        "\n",
        "  num1 = float(input(\"Enter first number: \"))\n",
        "  num2 = float(input(\"Enter second number: \"))\n",
        "\n",
        "\n",
        "  if operator == \"+\":\n",
        "    print(f'{num1} + {num2} = {num1+num2}')\n",
        "  elif operator == \"-\":\n",
        "    print (f'{num1} - {num2} = {num1-num2}')\n",
        "  elif operator == \"*\":\n",
        "     print(f'{num1} * {num2} = {num1*num2}')\n",
        "  elif operator == \"**\":\n",
        "     print(f'{num1} ** {num2} = {num1**num2}')\n",
        "  elif operator == '/':\n",
        "     print(f'{num1} / {num2} = {num1/num2}')\n",
        "  elif operator == \"//\":\n",
        "     print(f'{num1} // {num2} = {num1//num2}')\n",
        "  elif operator == \"%\":\n",
        "     print(f'{num1} % {num2} = {num1%num2}')\n",
        "  else:\n",
        "    print('invalid operator:',operator)\n",
        "    continue\n",
        "\n",
        "\n",
        "\n",
        "\n",
        "\n",
        "\n",
        "\n",
        "\n"
      ],
      "metadata": {
        "id": "ucUuuG65ve_f",
        "outputId": "e436b854-8568-4309-bd90-a30c657e2614",
        "colab": {
          "base_uri": "https://localhost:8080/"
        }
      },
      "execution_count": null,
      "outputs": [
        {
          "output_type": "stream",
          "name": "stdout",
          "text": [
            "Enter mathematical operator//\n",
            "Enter first number: 2\n",
            "Enter second number: 3\n",
            "2.0 // 3.0 = 0.0\n",
            "Enter mathematical operator%\n",
            "Enter first number: 3\n",
            "Enter second number: 3\n",
            "3.0 % 3.0 = 0.0\n",
            "Enter mathematical operator%\n",
            "Enter first number: 6\n",
            "Enter second number: 3\n",
            "6.0 % 3.0 = 0.0\n",
            "Enter mathematical operator/\n",
            "Enter first number: 6\n",
            "Enter second number: 3\n",
            "6.0 / 3.0 = 2.0\n"
          ]
        }
      ]
    }
  ]
}