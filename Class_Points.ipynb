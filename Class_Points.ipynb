{
  "nbformat": 4,
  "nbformat_minor": 0,
  "metadata": {
    "colab": {
      "provenance": [],
      "authorship_tag": "ABX9TyO4rHXm3WoZZB5nq7edy1l8",
      "include_colab_link": true
    },
    "kernelspec": {
      "name": "python3",
      "display_name": "Python 3"
    },
    "language_info": {
      "name": "python"
    }
  },
  "cells": [
    {
      "cell_type": "markdown",
      "metadata": {
        "id": "view-in-github",
        "colab_type": "text"
      },
      "source": [
        "<a href=\"https://colab.research.google.com/github/danifelman/DanielaFelman/blob/main/Class_Points.ipynb\" target=\"_parent\"><img src=\"https://colab.research.google.com/assets/colab-badge.svg\" alt=\"Open In Colab\"/></a>"
      ]
    },
    {
      "cell_type": "code",
      "execution_count": 1,
      "metadata": {
        "id": "BY9qDWuqiA8d"
      },
      "outputs": [],
      "source": [
        "import math"
      ]
    },
    {
      "cell_type": "code",
      "source": [
        "class Point:\n",
        "  def __init__(self,x,y):\n",
        "    self.x = x\n",
        "    self.y = y\n",
        "  def distance(self, other):\n",
        "    x_diff = (self. x - other.x) **2\n",
        "    y_diff = (self.y - other.y) **2\n",
        "    return math.sqrt(x_diff + y_diff)\n",
        "\n",
        "class Point3D (Point):\n",
        "  def __init__(self,x,y,z):\n",
        "    super().__init__(x,y)\n",
        "    self. z = z\n",
        "  def distance (self, other):\n",
        "    x_diff = (self. x - other.x) **2\n",
        "    y_diff = (self.y - other.y) **2\n",
        "    z_diff = (self.z -other.z)**2\n",
        "    return math.sqrt(x_diff + y_diff +z_diff)\n",
        "\n",
        "p1 = Point(3,4)\n",
        "p2 = Point (6,8)\n",
        "print(p1.distance(p2)) #does not matter which attribute calls the function\n",
        "p3d_1 = Point3D (3,4,5)\n",
        "p3d_2 = Point3D(6,8,10)\n",
        "print(p3d_1.distance(p3d_2))"
      ],
      "metadata": {
        "colab": {
          "base_uri": "https://localhost:8080/"
        },
        "id": "1iufKYmtiK0x",
        "outputId": "5feef2cf-46eb-4814-91d5-f9928f3e41e7"
      },
      "execution_count": 2,
      "outputs": [
        {
          "output_type": "stream",
          "name": "stdout",
          "text": [
            "5.0\n",
            "7.0710678118654755\n"
          ]
        }
      ]
    }
  ]
}