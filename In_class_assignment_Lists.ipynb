{
  "nbformat": 4,
  "nbformat_minor": 0,
  "metadata": {
    "colab": {
      "provenance": [],
      "authorship_tag": "ABX9TyPbchvTRwjp8SSBLK14b9uR",
      "include_colab_link": true
    },
    "kernelspec": {
      "name": "python3",
      "display_name": "Python 3"
    },
    "language_info": {
      "name": "python"
    }
  },
  "cells": [
    {
      "cell_type": "markdown",
      "metadata": {
        "id": "view-in-github",
        "colab_type": "text"
      },
      "source": [
        "<a href=\"https://colab.research.google.com/github/danifelman/DanielaFelman/blob/main/In_class_assignment_Lists.ipynb\" target=\"_parent\"><img src=\"https://colab.research.google.com/assets/colab-badge.svg\" alt=\"Open In Colab\"/></a>"
      ]
    },
    {
      "cell_type": "code",
      "execution_count": 14,
      "metadata": {
        "colab": {
          "base_uri": "https://localhost:8080/"
        },
        "id": "TyUsc5y_A2EC",
        "outputId": "0ff77c25-c458-453a-84db-deaac6f8b28a"
      },
      "outputs": [
        {
          "output_type": "stream",
          "name": "stdout",
          "text": [
            "Enter a value: 3\n",
            "Enter a value: 7\n",
            "Enter a value: 8\n",
            "Enter a value: 1\n",
            "Enter a value: 0\n",
            "[3, 7, 8, 1]\n"
          ]
        },
        {
          "output_type": "execute_result",
          "data": {
            "text/plain": [
              "[1, 3, 7, 8]"
            ]
          },
          "metadata": {},
          "execution_count": 14
        }
      ],
      "source": [
        "L = []\n",
        "number = int(input('Enter a value: '))\n",
        "\n",
        "while number != 0:\n",
        "  L.append(number)\n",
        "  number = int(input('Enter a value: '))\n",
        "print(L)\n",
        "\n",
        "L.sort()\n",
        "L"
      ]
    },
    {
      "cell_type": "markdown",
      "source": [],
      "metadata": {
        "id": "CGc03BKEBPBF"
      }
    },
    {
      "cell_type": "code",
      "source": [
        "L1=[1,2,3,4]\n",
        "L2=[1,2,5,6]\n",
        "\n",
        "for item in L1: #for loop that iterates every number in L1\n",
        "  if item in L2: #on every iteration checks for common items within two lists\n",
        "   L1.remove(item) #if it is true then remove if its in both\n",
        "\n",
        "L1 #in this loop, 2 is still in the list because when it goes back through the loop 2 takes the first position:\n",
        "\n",
        "#to avoid that from happening, need to.....\n",
        "\n",
        "L1=[1,2,3,4]\n",
        "L2=[1,2,5,6]\n",
        "\n",
        "for item in L1[:]:\n",
        "  if item in L2:\n",
        "    L1.remove(item)\n",
        "L1\n",
        ""
      ],
      "metadata": {
        "colab": {
          "base_uri": "https://localhost:8080/"
        },
        "id": "JY5tHSU7DGdA",
        "outputId": "fcd9db82-701c-4fae-aab8-d0854b0bd1fa"
      },
      "execution_count": 20,
      "outputs": [
        {
          "output_type": "execute_result",
          "data": {
            "text/plain": [
              "[3, 4]"
            ]
          },
          "metadata": {},
          "execution_count": 20
        }
      ]
    }
  ]
}