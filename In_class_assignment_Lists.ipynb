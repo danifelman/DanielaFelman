{
  "nbformat": 4,
  "nbformat_minor": 0,
  "metadata": {
    "colab": {
      "provenance": [],
      "authorship_tag": "ABX9TyOdyiwr47QnvxpHhyfRW9Ac",
      "include_colab_link": true
    },
    "kernelspec": {
      "name": "python3",
      "display_name": "Python 3"
    },
    "language_info": {
      "name": "python"
    }
  },
  "cells": [
    {
      "cell_type": "markdown",
      "metadata": {
        "id": "view-in-github",
        "colab_type": "text"
      },
      "source": [
        "<a href=\"https://colab.research.google.com/github/danifelman/DanielaFelman/blob/main/In_class_assignment_Lists.ipynb\" target=\"_parent\"><img src=\"https://colab.research.google.com/assets/colab-badge.svg\" alt=\"Open In Colab\"/></a>"
      ]
    },
    {
      "cell_type": "code",
      "execution_count": 11,
      "metadata": {
        "colab": {
          "base_uri": "https://localhost:8080/"
        },
        "id": "TyUsc5y_A2EC",
        "outputId": "c0c4d2a9-fd93-4f68-b8e6-4602e2d6c13f"
      },
      "outputs": [
        {
          "output_type": "stream",
          "name": "stdout",
          "text": [
            "Enter a value: 4\n",
            "Enter a value: 5\n",
            "Enter a value: 6\n",
            "Enter a value: 7\n",
            "Enter a value: 3\n",
            "Enter a value: 0\n",
            "[4, 5, 6, 7, 3]\n"
          ]
        }
      ],
      "source": [
        "L = []\n",
        "number = int(input('Enter a value: '))\n",
        "\n",
        "while number != 0:\n",
        "  L.append(number)\n",
        "  number = int(input('Enter a value: '))\n",
        "print(L)\n",
        "\n"
      ]
    },
    {
      "cell_type": "markdown",
      "source": [],
      "metadata": {
        "id": "CGc03BKEBPBF"
      }
    },
    {
      "cell_type": "code",
      "source": [],
      "metadata": {
        "id": "JY5tHSU7DGdA"
      },
      "execution_count": null,
      "outputs": []
    }
  ]
}