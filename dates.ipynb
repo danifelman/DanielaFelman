{
  "nbformat": 4,
  "nbformat_minor": 0,
  "metadata": {
    "colab": {
      "provenance": [],
      "authorship_tag": "ABX9TyO1u2tntFfe+RHX9V7uwHYR",
      "include_colab_link": true
    },
    "kernelspec": {
      "name": "python3",
      "display_name": "Python 3"
    },
    "language_info": {
      "name": "python"
    }
  },
  "cells": [
    {
      "cell_type": "markdown",
      "metadata": {
        "id": "view-in-github",
        "colab_type": "text"
      },
      "source": [
        "<a href=\"https://colab.research.google.com/github/danifelman/DanielaFelman/blob/main/dates.ipynb\" target=\"_parent\"><img src=\"https://colab.research.google.com/assets/colab-badge.svg\" alt=\"Open In Colab\"/></a>"
      ]
    },
    {
      "cell_type": "code",
      "execution_count": 1,
      "metadata": {
        "colab": {
          "base_uri": "https://localhost:8080/"
        },
        "id": "7Tsmwg6OPg0d",
        "outputId": "338b5e26-dd20-472f-ac5a-4dbfc3197efc"
      },
      "outputs": [
        {
          "output_type": "stream",
          "name": "stdout",
          "text": [
            "Enter date (MM/DD/YYYY)04/21/2004\n",
            "Month:04\n",
            "Day:21\n",
            "Year:2004\n"
          ]
        }
      ],
      "source": [
        "date = (input ('Enter date (MM/DD/YYYY)'))\n",
        "\n",
        "month = date [0:2:1]\n",
        "day = date [3:5:1]\n",
        "year = date [6:len(date)]\n",
        "\n",
        "print(f'Month:{month}')\n",
        "print(f'Day:{day}')\n",
        "print(f'Year:{year}')"
      ]
    }
  ]
}