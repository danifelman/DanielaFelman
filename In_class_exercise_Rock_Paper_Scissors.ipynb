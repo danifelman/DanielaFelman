{
  "nbformat": 4,
  "nbformat_minor": 0,
  "metadata": {
    "colab": {
      "provenance": [],
      "include_colab_link": true
    },
    "kernelspec": {
      "name": "python3",
      "display_name": "Python 3"
    },
    "language_info": {
      "name": "python"
    }
  },
  "cells": [
    {
      "cell_type": "markdown",
      "metadata": {
        "id": "view-in-github",
        "colab_type": "text"
      },
      "source": [
        "<a href=\"https://colab.research.google.com/github/danifelman/danielafelman/blob/main/In_class_exercise_Rock_Paper_Scissors.ipynb\" target=\"_parent\"><img src=\"https://colab.research.google.com/assets/colab-badge.svg\" alt=\"Open In Colab\"/></a>"
      ]
    },
    {
      "cell_type": "code",
      "execution_count": null,
      "metadata": {
        "id": "EB5SzGQTt5E2",
        "colab": {
          "base_uri": "https://localhost:8080/"
        },
        "outputId": "8e1afe6b-7a0d-4723-b5b2-244dd3f30371"
      },
      "outputs": [
        {
          "output_type": "stream",
          "name": "stdout",
          "text": [
            "Enter your choice(rock, paper ,scissors):paper\n",
            "You choose: paper\n",
            "Computer choose: rock\n",
            "You Win!\n"
          ]
        }
      ],
      "source": [
        "\n",
        "import random\n",
        "computer_choice=random.choice([\"rock\" ,\"paper\",\"scissors\"])\n",
        "user_choice= input(\"Enter your choice(rock, paper ,scissors):\")\n",
        "\n",
        "print(f\"You choose: {user_choice}\")\n",
        "print(f\"Computer choose: {computer_choice}\")\n",
        "\n",
        "if user_choice == computer_choice:\n",
        "  print(\"It's a tie!\")\n",
        "\n",
        "elif (\n",
        " ( user_choice == \"rock\" and computer_choice == \"scissors\") or\n",
        "      (user_choice == \"paper\" and computer_choice == \"rock\") or\n",
        "      (user_choice == \"scissors\") and computer_choice == \"paper\"):\n",
        "  print(\"You Win!\")\n",
        "else:\n",
        "  print(\"Computer wins!\")"
      ]
    },
    {
      "cell_type": "code",
      "source": [
        "if user_choice == pc_choice:\n",
        "  print (\"tie\")\n",
        "elif (user_choise ==\"rock\"and\n",
        "  pc_choice == \"scissors\")\n",
        "or\n",
        "  (user_choice == \"paper\" and\n",
        "  pc_choice == \"rock\")\n",
        "or\n",
        "  (user_choice == \"scissors\" and\n",
        "  pc_choice == \"paper\")\n",
        "else\n",
        "  print(\"Pc wins\")"
      ],
      "metadata": {
        "colab": {
          "base_uri": "https://localhost:8080/",
          "height": 143
        },
        "id": "MstGLgN-1jPi",
        "outputId": "14d47e23-2007-4481-fe35-5f7b39b59fcc"
      },
      "execution_count": null,
      "outputs": [
        {
          "output_type": "error",
          "ename": "SyntaxError",
          "evalue": "expected ':' (<ipython-input-4-11a6db8c6b19>, line 4)",
          "traceback": [
            "\u001b[0;36m  File \u001b[0;32m\"<ipython-input-4-11a6db8c6b19>\"\u001b[0;36m, line \u001b[0;32m4\u001b[0m\n\u001b[0;31m    pc_choice == \"scissors\")\u001b[0m\n\u001b[0m                            ^\u001b[0m\n\u001b[0;31mSyntaxError\u001b[0m\u001b[0;31m:\u001b[0m expected ':'\n"
          ]
        }
      ]
    },
    {
      "cell_type": "code",
      "source": [
        "userInput = input(\"year: \")\n",
        "x= int(userInput)\n",
        "\n",
        "if (x%4 == 0 and x%100 != 0) or x%400==0:\n",
        "  print (\"leap year\")\n",
        "else :\n",
        "  print(\"no leap year\")"
      ],
      "metadata": {
        "colab": {
          "base_uri": "https://localhost:8080/"
        },
        "id": "HixCdutc349q",
        "outputId": "af2b16a9-e116-43ae-8955-97b0bd9201b5"
      },
      "execution_count": null,
      "outputs": [
        {
          "output_type": "stream",
          "name": "stdout",
          "text": [
            "year1980\n",
            "leap year\n"
          ]
        }
      ]
    },
    {
      "cell_type": "code",
      "source": [
        "if (year%4 == 0 and year %100!=0) or year %400 == 0 :\n",
        "  print('leap')\n",
        "  else:\n",
        "    (\"not leap\")"
      ],
      "metadata": {
        "id": "G-F45K959ok2"
      },
      "execution_count": null,
      "outputs": []
    },
    {
      "cell_type": "markdown",
      "source": [
        "1) if year divisible by 4, go to 2\n",
        "else go to step 5\n",
        "2) if year divisible by 100, go to step 3\n",
        "else go to step 4\n",
        "3) if year divisible by 400, go to\n",
        "4, else 5\n"
      ],
      "metadata": {
        "id": "0b5H71qk5G7s"
      }
    },
    {
      "cell_type": "markdown",
      "source": [
        "input              processing         output\n",
        "1. user.         1. comparisons.      1. display\n",
        "2. competitor.   2. and, or, not"
      ],
      "metadata": {
        "id": "2G1May2Uu5l_"
      }
    }
  ]
}