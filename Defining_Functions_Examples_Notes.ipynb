{
  "nbformat": 4,
  "nbformat_minor": 0,
  "metadata": {
    "colab": {
      "provenance": [],
      "include_colab_link": true
    },
    "kernelspec": {
      "name": "python3",
      "display_name": "Python 3"
    },
    "language_info": {
      "name": "python"
    }
  },
  "cells": [
    {
      "cell_type": "markdown",
      "metadata": {
        "id": "view-in-github",
        "colab_type": "text"
      },
      "source": [
        "<a href=\"https://colab.research.google.com/github/danifelman/DanielaFelman/blob/main/Defining_Functions_Examples_Notes.ipynb\" target=\"_parent\"><img src=\"https://colab.research.google.com/assets/colab-badge.svg\" alt=\"Open In Colab\"/></a>"
      ]
    },
    {
      "cell_type": "markdown",
      "source": [
        "# Defining Functions\n",
        "\n",
        "When defining a function, the type used as the parameter for the function must always be that type when the function is used. However, when using a defined function, the name of the parameter does not have to be the same as the name of the parameter used when the function was defined. For example if we define the function fill using a list (l) as a parameter, when we use the fill function we have to have a list as the parameter (name could be anything, i.e. aList)."
      ],
      "metadata": {
        "id": "T83lMBHrn7fu"
      }
    },
    {
      "cell_type": "markdown",
      "source": [
        "**Defining 'Fill' Example:**"
      ],
      "metadata": {
        "id": "REfEBoVottP6"
      }
    },
    {
      "cell_type": "code",
      "execution_count": null,
      "metadata": {
        "id": "Hir41-0zm1rd"
      },
      "outputs": [],
      "source": [
        "#this code defines the function fill. This function will go through a range of 10\n",
        "#and add every number to a list unless that number is divisible by two.\n",
        "#in other word it adds all odd numbers in range 10 to a given list.\n",
        "def fill(l):\n",
        "  for i in range(10):\n",
        "    l.append(i)\n",
        "    if i%2 == 0:\n",
        "      l.pop()\n",
        "  print(l)"
      ]
    },
    {
      "cell_type": "code",
      "source": [
        "#this code is an implementation of the fill function which we defined above\n",
        "aList = []\n",
        "fill(aList)"
      ],
      "metadata": {
        "id": "MOEEC0sPo2rq"
      },
      "execution_count": null,
      "outputs": []
    },
    {
      "cell_type": "markdown",
      "source": [
        "**Defining 'Greeting' Example:**"
      ],
      "metadata": {
        "id": "-MaA4HevtymJ"
      }
    },
    {
      "cell_type": "code",
      "source": [
        "#this code defines the function, greeting, which prints a statement using\n",
        "#a string that is a name\n",
        "def greeting(n):\n",
        "  print(f'Hello {n}!')\n",
        "\n",
        "name = input('Enter a name: ')\n",
        "greeting(name)"
      ],
      "metadata": {
        "id": "dIoTYMUKrGek",
        "colab": {
          "base_uri": "https://localhost:8080/"
        },
        "outputId": "7a915413-f979-4348-e2ee-77a57be1cf79"
      },
      "execution_count": 3,
      "outputs": [
        {
          "output_type": "stream",
          "name": "stdout",
          "text": [
            "Enter a name: dani\n",
            "Hello dani!\n"
          ]
        }
      ]
    },
    {
      "cell_type": "code",
      "source": [
        "#this is the same as the code above but instead of using print, we return the string\n",
        "#in order to do this we have to assign the greeting to a variable and use the print\n",
        "#function to display it\n",
        "def greeting(n):\n",
        "  return f'Hello {n}!'\n",
        "\n",
        "name = input('Enter a name: ')\n",
        "message = greeting(name)\n",
        "print(message)"
      ],
      "metadata": {
        "id": "rTAaSgGztPF1",
        "colab": {
          "base_uri": "https://localhost:8080/"
        },
        "outputId": "5926e9c1-0658-4d38-fccb-6d4cd5a75041"
      },
      "execution_count": 2,
      "outputs": [
        {
          "output_type": "stream",
          "name": "stdout",
          "text": [
            "Enter a name: hi\n",
            "Hello hi!\n"
          ]
        }
      ]
    },
    {
      "cell_type": "markdown",
      "source": [
        "**Defining \"Add_Num' Example:**"
      ],
      "metadata": {
        "id": "prI2HDmat8UP"
      }
    },
    {
      "cell_type": "code",
      "source": [
        "#this code defines a function called add_num that displays the sum of two numbers\n",
        "#this function requires two inputs\n",
        "def add_num(a, b):\n",
        "  c = a + b\n",
        "  return c  #for this portion we can also write 'return a + b' and remove the line above\n",
        "\n",
        "x = 5\n",
        "y = 6\n",
        "z = add_num(x, y)\n",
        "print(z)"
      ],
      "metadata": {
        "id": "nog88h9qtsEx",
        "colab": {
          "base_uri": "https://localhost:8080/"
        },
        "outputId": "646808a4-3099-47e4-d354-9978a5f1cff3"
      },
      "execution_count": 1,
      "outputs": [
        {
          "output_type": "stream",
          "name": "stdout",
          "text": [
            "11\n"
          ]
        }
      ]
    },
    {
      "cell_type": "code",
      "source": [
        "#this code is the same as the example above except that we return (and print) two\n",
        "#two values (the sum and the sum squared)\n",
        "def add_num_sq(a, b):\n",
        "  c = a + b\n",
        "  c_sq = c ** 2\n",
        "  return c, c_sq\n",
        "\n",
        "x = 5\n",
        "y = 6\n",
        "z, z_sq = add_num_sq(x, y)  #we can define two variables at once because the function\n",
        "                            #has two return variables (z is the sum, z_ sq is the sum sqaured)\n",
        "print(z_sq)   #this will only print the sum squared given the way we defined variables"
      ],
      "metadata": {
        "colab": {
          "base_uri": "https://localhost:8080/"
        },
        "id": "b6lGYK_gxJ_r",
        "outputId": "7648fc71-ea32-434c-c98a-bb479a6cc69e"
      },
      "execution_count": null,
      "outputs": [
        {
          "output_type": "stream",
          "name": "stdout",
          "text": [
            "121\n"
          ]
        }
      ]
    },
    {
      "cell_type": "markdown",
      "source": [
        "**Defining 'Fill_New' Function**"
      ],
      "metadata": {
        "id": "nl-t1ZeQw9Z3"
      }
    },
    {
      "cell_type": "code",
      "source": [
        "#this code operates the same as the first example except we reworked it so that\n",
        "#it doesn't take any parameters\n",
        "def fill_new():\n",
        "  l = []\n",
        "  for i in range(10):\n",
        "    l.append(i)\n",
        "    if i%2 == 0:\n",
        "      l.pop()\n",
        "  print(l)\n",
        "\n",
        "fill_new()"
      ],
      "metadata": {
        "id": "svFz6spswSWp"
      },
      "execution_count": null,
      "outputs": []
    },
    {
      "cell_type": "code",
      "source": [
        "def example():\n",
        "  print('This is an example')\n",
        "  return\n",
        "\n",
        "name = example()\n",
        "print(name)\n",
        ""
      ],
      "metadata": {
        "id": "y_U646Kwl0Ht",
        "colab": {
          "base_uri": "https://localhost:8080/"
        },
        "outputId": "92ef208a-7d2f-4c6b-8951-1b71ada24e39"
      },
      "execution_count": 5,
      "outputs": [
        {
          "output_type": "stream",
          "name": "stdout",
          "text": [
            "This is an example\n",
            "None\n"
          ]
        }
      ]
    },
    {
      "cell_type": "markdown",
      "source": [
        "# **Scoping**"
      ],
      "metadata": {
        "id": "ve87okRzoFKt"
      }
    },
    {
      "cell_type": "code",
      "source": [
        "#A scope is a block of code where an object in Python remains relevant\n",
        "#built in names (abs(), min(), max()\n",
        "#allows you to resuse same names\n",
        "\n",
        "#Global Scope: x,y,z f() : visible to the entire program\n",
        "#Local Scope: Visible and defined within the function\n",
        "#Every set of variables is visible to the scope within and the scopes that it derives from, invisible to the layers above\n",
        "\n",
        "#refer to a variable\n",
        "  #x=f(y)\n",
        "  #x= x+y\n",
        "\n",
        "def f(x): #name x used as formal parameter (input parameter)\n",
        "  y = 1 #no relationship with other 'y' :this one is the local scope\n",
        "  x = x+y\n",
        "  print('x =', x)\n",
        "  return x #retuns where the function was called (z)\n",
        "\n",
        "x = 3\n",
        "y = 2  #this 'y' is the global scope\n",
        "z = f(x) #value of x used as actual parameter (function call)\n",
        "print('z =', z)\n",
        "print('x =', x)\n",
        "print('y =', y)\n",
        "\n"
      ],
      "metadata": {
        "colab": {
          "base_uri": "https://localhost:8080/"
        },
        "id": "TpE14p-YoIUb",
        "outputId": "fb15d295-ec31-432c-d3f5-9d64179aab4a"
      },
      "execution_count": 12,
      "outputs": [
        {
          "output_type": "stream",
          "name": "stdout",
          "text": [
            "x = 4\n",
            "z = 4\n",
            "x = 3\n",
            "y = 2\n"
          ]
        }
      ]
    }
  ]
}