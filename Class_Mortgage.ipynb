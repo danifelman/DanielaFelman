{
  "nbformat": 4,
  "nbformat_minor": 0,
  "metadata": {
    "colab": {
      "provenance": [],
      "authorship_tag": "ABX9TyOdKsIkF9i9AAgptjqp65pn",
      "include_colab_link": true
    },
    "kernelspec": {
      "name": "python3",
      "display_name": "Python 3"
    },
    "language_info": {
      "name": "python"
    }
  },
  "cells": [
    {
      "cell_type": "markdown",
      "metadata": {
        "id": "view-in-github",
        "colab_type": "text"
      },
      "source": [
        "<a href=\"https://colab.research.google.com/github/danifelman/DanielaFelman/blob/main/Class_Mortgage.ipynb\" target=\"_parent\"><img src=\"https://colab.research.google.com/assets/colab-badge.svg\" alt=\"Open In Colab\"/></a>"
      ]
    },
    {
      "cell_type": "code",
      "execution_count": 2,
      "metadata": {
        "id": "qfrhO05-iYIK"
      },
      "outputs": [],
      "source": [
        "class Mortgage:\n",
        "  def __init__ (self, amount, maturity, interest):\n",
        "    self.amount = amount\n",
        "    self.maturity = maturity\n",
        "    self.__interest = interest\n",
        "\n",
        "  def get_interest(self):\n",
        "    return self.__interest\n",
        "\n",
        "  def set_interest(self, newInterest):\n",
        "    if newInterest >= 0:\n",
        "      self.__interest = newInterest\n",
        "    else:\n",
        "      print('Interest must be non-negative!')\n",
        "\n",
        "  def payment(self):\n",
        "    B = self.amount\n",
        "    n = self.maturity * 12\n",
        "    r = self.__interest / 100\n",
        "\n",
        "    return B * (r * (1+r) ** n)/ ((1+r)** n-1)\n",
        "\n",
        "  def __str__ (self):\n",
        "    return f'Mortgage information: \\n Initial loan amount: {self.amount}$ \\n Maturity term: {self.maturity} years \\n Interest rate: {self.__interest}%'\n",
        "\n",
        ""
      ]
    },
    {
      "cell_type": "code",
      "source": [
        "m = Mortgage (10000, 30, 6)"
      ],
      "metadata": {
        "id": "g8Qv634pik2H"
      },
      "execution_count": 3,
      "outputs": []
    },
    {
      "cell_type": "code",
      "source": [
        "print (m)\n"
      ],
      "metadata": {
        "colab": {
          "base_uri": "https://localhost:8080/"
        },
        "id": "zM5VkSupilZb",
        "outputId": "685ddbaa-8a19-4faa-8e5f-f650b924f6c7"
      },
      "execution_count": 4,
      "outputs": [
        {
          "output_type": "stream",
          "name": "stdout",
          "text": [
            "Mortgage information: \n",
            " Initial loan amount: 10000$ \n",
            " Maturity term: 30 years \n",
            " Interest rate: 6%\n"
          ]
        }
      ]
    }
  ]
}