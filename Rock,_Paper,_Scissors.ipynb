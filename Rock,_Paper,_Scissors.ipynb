{
  "nbformat": 4,
  "nbformat_minor": 0,
  "metadata": {
    "colab": {
      "provenance": [],
      "authorship_tag": "ABX9TyPZ9H0cuXct75ksPeDlNMo+",
      "include_colab_link": true
    },
    "kernelspec": {
      "name": "python3",
      "display_name": "Python 3"
    },
    "language_info": {
      "name": "python"
    }
  },
  "cells": [
    {
      "cell_type": "markdown",
      "metadata": {
        "id": "view-in-github",
        "colab_type": "text"
      },
      "source": [
        "<a href=\"https://colab.research.google.com/github/danifelman/DanielaFelman/blob/main/Rock%2C_Paper%2C_Scissors.ipynb\" target=\"_parent\"><img src=\"https://colab.research.google.com/assets/colab-badge.svg\" alt=\"Open In Colab\"/></a>"
      ]
    },
    {
      "cell_type": "code",
      "execution_count": null,
      "metadata": {
        "id": "TwtvWdd4WVi6"
      },
      "outputs": [],
      "source": [
        "import random\n",
        "while True:\n",
        "  user_choice = input('Choose rock, paper, or sissors:')\n",
        "  if user_choice == '':\n",
        "    print('Have a good day!')\n",
        "    break\n",
        "  pc_choice = random.choice(['rock,','paper', 'sissors'])\n",
        "\n",
        "  print(f'Pc chose: {pc_choice}')\n",
        "\n",
        "  if user_choice == pc_choice:\n",
        "    print('It is a tie!')\n",
        "\n",
        "  elif user_choice == 'paper':\n",
        "    if pc_choice == 'rock':\n",
        "      print('You won!')\n",
        "    else:\n",
        "      print ('PC wins')\n",
        "\n",
        "  elif user_choice == 'rock':\n",
        "    if pc_choice == 'sissors':\n",
        "      print ('You won!')\n",
        "    else:\n",
        "      print('PC wins')\n",
        "\n",
        "  elif user_choice == 'sissors':\n",
        "    if pc_choice == 'rock':\n",
        "      print('You won!')\n",
        "    else:\n",
        "      print('PC wins')\n",
        ""
      ]
    }
  ]
}