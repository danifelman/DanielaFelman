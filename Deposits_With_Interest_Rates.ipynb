{
  "nbformat": 4,
  "nbformat_minor": 0,
  "metadata": {
    "colab": {
      "provenance": [],
      "authorship_tag": "ABX9TyPVSvCDIYXEX82eZJUUAfQ7",
      "include_colab_link": true
    },
    "kernelspec": {
      "name": "python3",
      "display_name": "Python 3"
    },
    "language_info": {
      "name": "python"
    }
  },
  "cells": [
    {
      "cell_type": "markdown",
      "metadata": {
        "id": "view-in-github",
        "colab_type": "text"
      },
      "source": [
        "<a href=\"https://colab.research.google.com/github/danifelman/DanielaFelman/blob/main/Deposits_With_Interest_Rates.ipynb\" target=\"_parent\"><img src=\"https://colab.research.google.com/assets/colab-badge.svg\" alt=\"Open In Colab\"/></a>"
      ]
    },
    {
      "cell_type": "code",
      "execution_count": 2,
      "metadata": {
        "colab": {
          "base_uri": "https://localhost:8080/"
        },
        "id": "nf8blT0qhnD3",
        "outputId": "7db1f21b-4574-4fea-ed08-2ac29e7a625b"
      },
      "outputs": [
        {
          "output_type": "stream",
          "name": "stdout",
          "text": [
            "Enter your name: Dani\n",
            "Enter customer type (n: new, e: exisiting):new\n",
            "Enter deposit amount (in $):5000\n",
            "5162.5\n"
          ]
        }
      ],
      "source": [
        "name = input('Enter your name: ')\n",
        "customer_type = input('Enter customer type (n: new, e: exisiting):')\n",
        "deposit = float (input(\"Enter deposit amount (in $):\"))\n",
        "\n",
        "if customer_type == 'n':\n",
        "  interest = 0.03\n",
        "else:\n",
        "  if deposit <= 1000:\n",
        "    interest = 0.03\n",
        "  elif deposit <= 10000:\n",
        "    interest = 0.0325\n",
        "  elif deposit > 10000:\n",
        "    interest = 0.035\n",
        "\n",
        "total = (1+interest)* deposit\n",
        "print (total)"
      ]
    }
  ]
}