{
  "nbformat": 4,
  "nbformat_minor": 0,
  "metadata": {
    "colab": {
      "provenance": [],
      "include_colab_link": true
    },
    "kernelspec": {
      "name": "python3",
      "display_name": "Python 3"
    },
    "language_info": {
      "name": "python"
    }
  },
  "cells": [
    {
      "cell_type": "markdown",
      "metadata": {
        "id": "view-in-github",
        "colab_type": "text"
      },
      "source": [
        "<a href=\"https://colab.research.google.com/github/danifelman/DanielaFelman/blob/main/Error_Examples_(4_9).ipynb\" target=\"_parent\"><img src=\"https://colab.research.google.com/assets/colab-badge.svg\" alt=\"Open In Colab\"/></a>"
      ]
    },
    {
      "cell_type": "markdown",
      "source": [
        "# **Exception and Syntax Errors**\n",
        "Syntax errors occur when there is something wrong with the structure/way someone has written a code (i.e. a parenthesis missing). Exception errors are often harder to recognizse and can be harder to find"
      ],
      "metadata": {
        "id": "EXUvGAzp0v6B"
      }
    },
    {
      "cell_type": "markdown",
      "source": [
        "**Some Examples of Exception Errors (Non-syntax Errors):**\n",
        "\n",
        "\n",
        "*   Division by zero: when calculating, dividing a number by 0 will produce an error\n",
        "\n",
        "*   Type error: dividing an integer by a string (error can occur with mathematical operators and other types of variables that aren't compatible)\n",
        "*   Index error: referencing the index 5 when there are only 5 objects in a list/string\n",
        "\n",
        "\n",
        "*   Indentation errors: when a line(s) of code is not aligned correctly (often happens when using iterations and defining functions)\n",
        "\n",
        "\n",
        "\n",
        "\n"
      ],
      "metadata": {
        "id": "2MIX9BEItuJA"
      }
    },
    {
      "cell_type": "markdown",
      "source": [
        "**Try and Except (Exception Handling):**"
      ],
      "metadata": {
        "id": "3jthoZ3Ow1Et"
      }
    },
    {
      "cell_type": "code",
      "source": [
        "try:        #inside the try we put the code that we are trying to run (that could lead to an error)\n",
        "  a = float(input('Enter a numerator: '))\n",
        "  b = float(input('Enter a denominator: '))\n",
        "  print(a/b)\n",
        "  print('Division is complete')\n",
        "\n",
        "except:\n",
        "  print ('Error Occured')     # i.e. if we were to input 0 as a denominator or a string as\n",
        "                              #one of the values, the code would return Error Occurred\n",
        "print('Program Ends.')\n",
        "\n",
        "#this code is slightly restrictive because it will tell us an error occurred, but\n",
        "#it does not reveal the type of error or how to fix it"
      ],
      "metadata": {
        "id": "ADz84ASKvU-2"
      },
      "execution_count": null,
      "outputs": []
    },
    {
      "cell_type": "code",
      "source": [
        "#this is the same as the code above, bt=yt we specify the type of error that occurs\n",
        "try:\n",
        "  a = float(input('Enter a numerator: '))\n",
        "  b = float(input('Enter a denominator: '))\n",
        "  print(a/b)\n",
        "  print('Division is complete')\n",
        "\n",
        "except ZeroDivisionError: #this name is native in python and checks for a division by 0\n",
        "  print ('Error: Denominator is 0')\n",
        "#the clause above will only account for the specified error, more clauses are needed\n",
        "#sych as the one below which accounts for type errors\n",
        "except ValueError:\n",
        "  print('Error: Incompatible Type, Please enter to float values')\n",
        "except:\n",
        "  print('Unknown Error')\n",
        "\n",
        "print('Program Ends.')"
      ],
      "metadata": {
        "id": "bxIU6dhky2DN"
      },
      "execution_count": null,
      "outputs": []
    },
    {
      "cell_type": "code",
      "source": [
        "#this code will return the value in a list when the user inputs the index that they\n",
        "#want displayed\n",
        "l = [1, 3, 5, 7, 9]\n",
        "try:\n",
        "  idx = float(input('Enter an index: '))\n",
        "  print(l[idx])\n",
        "except TypeError:\n",
        "  print(\"Indec must be numeric\")\n",
        "except IndexError:\n",
        "  print('Index is out of bounds')\n",
        "except:\n",
        "  print('Unknown Error')"
      ],
      "metadata": {
        "id": "MNz0TOBl1mKo"
      },
      "execution_count": null,
      "outputs": []
    },
    {
      "cell_type": "code",
      "source": [
        "#we are defining a function that will find the average of a list\n",
        "def listAverage(alist):\n",
        "  try:    #we need to try it because there could be a type error\n",
        "    return sum(alist)/len(alist)\n",
        "  except TypeError:\n",
        "    print('The list does not contain numbers only')\n",
        "    return None   #we still need a return within the except call\n",
        "  except ZeroDivisionError:   #an empty list will constitute this error\n",
        "    print('The list is empty')\n",
        "    return float('nan')\n",
        "\n",
        "l = [1,2,3]\n",
        "listAverage(l)"
      ],
      "metadata": {
        "id": "4WYRsGmQ2m0o"
      },
      "execution_count": null,
      "outputs": []
    }
  ]
}