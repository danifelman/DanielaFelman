{
  "nbformat": 4,
  "nbformat_minor": 0,
  "metadata": {
    "colab": {
      "provenance": [],
      "authorship_tag": "ABX9TyNk/psXiSH/alHKeATPL/zR",
      "include_colab_link": true
    },
    "kernelspec": {
      "name": "python3",
      "display_name": "Python 3"
    },
    "language_info": {
      "name": "python"
    }
  },
  "cells": [
    {
      "cell_type": "markdown",
      "metadata": {
        "id": "view-in-github",
        "colab_type": "text"
      },
      "source": [
        "<a href=\"https://colab.research.google.com/github/danifelman/DanielaFelman/blob/main/Calculator.ipynb\" target=\"_parent\"><img src=\"https://colab.research.google.com/assets/colab-badge.svg\" alt=\"Open In Colab\"/></a>"
      ]
    },
    {
      "cell_type": "code",
      "execution_count": null,
      "metadata": {
        "colab": {
          "base_uri": "https://localhost:8080/"
        },
        "id": "bMPWrxn1ixBW",
        "outputId": "6e5f5101-45bf-49c0-a75f-7abd90db1bba"
      },
      "outputs": [
        {
          "output_type": "stream",
          "name": "stdout",
          "text": [
            "Enter first value:8\n",
            "Enter the operator: *\n",
            "Enter second value:9\n",
            "Result: 72.0\n"
          ]
        }
      ],
      "source": [
        "while True:\n",
        "  num1 = float(input('Enter first value:'))\n",
        "  operator = input('Enter the operator: ')\n",
        "  num2 = float(input('Enter second value:'))\n",
        "\n",
        "  if operator == 'break':\n",
        "    print(\"Goodbye!\")\n",
        "    break\n",
        "\n",
        "  if operator == \"+\":\n",
        "    answer = num1 +num2\n",
        "  elif operator == \"-\":\n",
        "    answer = num1 - num2\n",
        "  elif operator == \"*\":\n",
        "    answer = num1 * num2\n",
        "  elif operator == \"/\":\n",
        "    answer = num1 / num2\n",
        "  elif operator == \"//\":\n",
        "    answer = num1 // num2\n",
        "  elif operator == \"**\":\n",
        "    answer = num1 ** num2\n",
        "  elif operator == \"%\":\n",
        "    answer = num1 % num2\n",
        "  else:\n",
        "    print(\"invalid operator:\", operator)\n",
        "    continue\n",
        "  print(\"Result:\", answer)"
      ]
    }
  ]
}