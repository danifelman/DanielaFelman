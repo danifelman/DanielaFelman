{
  "nbformat": 4,
  "nbformat_minor": 0,
  "metadata": {
    "colab": {
      "provenance": [],
      "authorship_tag": "ABX9TyPZ5cQqpWS4Sqj5GMJEFlou",
      "include_colab_link": true
    },
    "kernelspec": {
      "name": "python3",
      "display_name": "Python 3"
    },
    "language_info": {
      "name": "python"
    }
  },
  "cells": [
    {
      "cell_type": "markdown",
      "metadata": {
        "id": "view-in-github",
        "colab_type": "text"
      },
      "source": [
        "<a href=\"https://colab.research.google.com/github/danifelman/DanielaFelman/blob/main/String_Example.ipynb\" target=\"_parent\"><img src=\"https://colab.research.google.com/assets/colab-badge.svg\" alt=\"Open In Colab\"/></a>"
      ]
    },
    {
      "cell_type": "code",
      "execution_count": 3,
      "metadata": {
        "colab": {
          "base_uri": "https://localhost:8080/"
        },
        "id": "E2bbAaYfw4im",
        "outputId": "e1814e42-b155-41b7-a617-85e5b0d01347"
      },
      "outputs": [
        {
          "output_type": "stream",
          "name": "stdout",
          "text": [
            "Enter Date: MM/DD/YYYY: 02/02/2002\n",
            " the month is 02\n",
            "the day is 02\n",
            " the year is 2002\n"
          ]
        }
      ],
      "source": [
        "# Write a program that takes as input from the keyboard a string that corresponds to a date (e.g., 02/20/2024) in format: MM/DD/YYYY\n",
        "\n",
        "date = input(('Enter Date: MM/DD/YYYY: '))\n",
        "month = date[0:2]\n",
        "day= date[3:5]\n",
        "year= date[6:10]\n",
        "\n",
        "print(f\" the month is {month}\")\n",
        "print(f\"the day is {day}\")\n",
        "print(f\" the year is {year}\")\n"
      ]
    },
    {
      "cell_type": "code",
      "source": [
        "date = input (\"Enter the date: \")\n",
        "month= date[0:2]\n",
        "day= date[3:5]\n",
        "year= date[6:10]\n",
        "\n",
        "print(month,day,year)\n"
      ],
      "metadata": {
        "colab": {
          "base_uri": "https://localhost:8080/"
        },
        "id": "f1kvrgCN0QA3",
        "outputId": "4f3bd9dd-d3e9-44fc-c895-2502cda244c3"
      },
      "execution_count": 4,
      "outputs": [
        {
          "output_type": "stream",
          "name": "stdout",
          "text": [
            "Enter the date: 02/02.2002\n",
            "02 02 2002\n"
          ]
        }
      ]
    },
    {
      "cell_type": "code",
      "source": [],
      "metadata": {
        "id": "MvQ95_mO0iZW"
      },
      "execution_count": null,
      "outputs": []
    }
  ]
}