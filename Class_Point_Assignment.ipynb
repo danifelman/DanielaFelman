{
  "nbformat": 4,
  "nbformat_minor": 0,
  "metadata": {
    "colab": {
      "provenance": [],
      "authorship_tag": "ABX9TyN0MZ5f+6Z2P4l8/tTCsbQP",
      "include_colab_link": true
    },
    "kernelspec": {
      "name": "python3",
      "display_name": "Python 3"
    },
    "language_info": {
      "name": "python"
    }
  },
  "cells": [
    {
      "cell_type": "markdown",
      "metadata": {
        "id": "view-in-github",
        "colab_type": "text"
      },
      "source": [
        "<a href=\"https://colab.research.google.com/github/danifelman/DanielaFelman/blob/main/Class_Point_Assignment.ipynb\" target=\"_parent\"><img src=\"https://colab.research.google.com/assets/colab-badge.svg\" alt=\"Open In Colab\"/></a>"
      ]
    },
    {
      "cell_type": "code",
      "execution_count": 2,
      "metadata": {
        "colab": {
          "base_uri": "https://localhost:8080/"
        },
        "id": "Pslgt2MAFacJ",
        "outputId": "deb1a2a8-6ff4-44e6-f77e-d1a97035b23d"
      },
      "outputs": [
        {
          "output_type": "stream",
          "name": "stdout",
          "text": [
            "5.0\n"
          ]
        }
      ],
      "source": [
        "class Point:\n",
        "  def __init__(self,x,y):\n",
        "    self.x = x\n",
        "    self.y = y\n",
        "  def distance(self,other): #use other for the second instance\n",
        "    x_diff = (self.x - other.x) ** 2 #both instances of the same class so they both have access to the same attribute names\n",
        "    y_diff = (self.y - other.y) ** 2\n",
        "    return (x_diff + y_diff) ** 0.5\n",
        "\n",
        "class Point3D(Point): #Point is the parent and Point3D can inheret from the Point class\n",
        "  def __init__ (self,x,y,z):\n",
        "    super().__init__(x,y) #super copies over the Class Point into this new class\n",
        "    self.z = z #then have to add the last variable which is z\n",
        "\n",
        "\n",
        "\n",
        "\n",
        "p1 = Point(3,4)\n",
        "p2 = Point(6,8)\n",
        "print(p1.distance(p2)) #can interchange p1 and p2\n"
      ]
    },
    {
      "cell_type": "code",
      "source": [],
      "metadata": {
        "id": "grCjd9c-Ia-U"
      },
      "execution_count": null,
      "outputs": []
    }
  ]
}